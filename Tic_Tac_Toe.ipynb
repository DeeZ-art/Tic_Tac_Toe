{
 "cells": [
  {
   "cell_type": "markdown",
   "id": "3cd86770",
   "metadata": {},
   "source": [
    "# TIC TAC TOE PROJECT USING NUMPY"
   ]
  },
  {
   "cell_type": "code",
   "execution_count": 2,
   "id": "7f0dcb7e",
   "metadata": {},
   "outputs": [],
   "source": [
    "import numpy as np"
   ]
  },
  {
   "cell_type": "markdown",
   "id": "42a8ec03",
   "metadata": {},
   "source": [
    "## Driver Code"
   ]
  },
  {
   "cell_type": "code",
   "execution_count": 67,
   "id": "b8eab275",
   "metadata": {},
   "outputs": [
    {
     "name": "stdout",
     "output_type": "stream",
     "text": [
      "Enter you username: Deez\n",
      "Enter you username: Avi\n",
      "Its Deez V/S Avi\n",
      "Deez is assigned with O\n",
      "Avi is assigned with X\n",
      "NOTE: Enter the coordinates in the form- (rows columns)\n",
      "[['N' 'N' 'N']\n",
      " ['N' 'N' 'N']\n",
      " ['N' 'N' 'N']]\n",
      "Enter the coordinates of O user11 1\n",
      "[['0' 'N' 'N']\n",
      " ['N' 'N' 'N']\n",
      " ['N' 'N' 'N']]\n",
      "Enter the coordinates of X user22 2\n",
      "[['0' 'N' 'N']\n",
      " ['N' 'X' 'N']\n",
      " ['N' 'N' 'N']]\n",
      "Enter the coordinates of O user12 1\n",
      "[['0' 'N' 'N']\n",
      " ['0' 'X' 'N']\n",
      " ['N' 'N' 'N']]\n",
      "Enter the coordinates of X user22 3\n",
      "[['0' 'N' 'N']\n",
      " ['0' 'X' 'X']\n",
      " ['N' 'N' 'N']]\n",
      "Enter the coordinates of O user13 1\n",
      "[['0' 'N' 'N']\n",
      " ['0' 'X' 'X']\n",
      " ['0' 'N' 'N']]\n",
      "Deez Won the game\n"
     ]
    }
   ],
   "source": [
    "full = np.full((3,3),'N')\n",
    "uname1 = input(\"Enter you username: \")\n",
    "uname2 = input(\"Enter you username: \")\n",
    "print(\"Its\",uname1,\"V/S\",uname2)\n",
    "print(uname1,\"is assigned with O\")\n",
    "print(uname2,\"is assigned with X\")\n",
    "print(\"NOTE: Enter the coordinates in the form- (rows columns)\")\n",
    "print(full)\n",
    "while(1):\n",
    "    x = input(\"Enter the coordinates of O user1\").split()\n",
    "    if full[(int(x[0])-1),(int(x[1])-1)]=='N':\n",
    "        full[(int(x[0])-1),(int(x[1])-1)]='0'\n",
    "        print(full)\n",
    "    else:\n",
    "        print(\"Space is already occupied\")\n",
    "    if ['0','0','0'] in full.tolist() or (np.diag(full)).tolist()==['0','0','0'] or (full[:,0].tolist())==['0','0','0'] or (full[:,1].tolist())==['0','0','0'] or (full[:,2].tolist())==['0','0','0'] :\n",
    "        print(uname1,\"Won the game\")\n",
    "        break\n",
    "    y = input(\"Enter the coordinates of X user2\").split()\n",
    "    if full[(int(y[0])-1),(int(y[1])-1)]=='N':\n",
    "        full[(int(y[0])-1),(int(y[1])-1)]='X'\n",
    "        print(full)\n",
    "    else:\n",
    "        print(\"Space is already occupied\")\n",
    "    if ['X','X','X'] in full.tolist() or (np.diag(full)).tolist()==['X','X','X']  or (full[:,0].tolist())==['X','X','X'] or (full[:,1].tolist())==['X','X','X'] or (full[:,2].tolist())==['X','X','X'] :\n",
    "        print(uname2,\"Won the game\")\n",
    "        break    \n",
    "    "
   ]
  },
  {
   "cell_type": "code",
   "execution_count": null,
   "id": "385faac6",
   "metadata": {},
   "outputs": [],
   "source": []
  },
  {
   "cell_type": "code",
   "execution_count": null,
   "id": "9ddff130",
   "metadata": {},
   "outputs": [],
   "source": []
  },
  {
   "cell_type": "code",
   "execution_count": null,
   "id": "2a5672df",
   "metadata": {},
   "outputs": [],
   "source": []
  },
  {
   "cell_type": "code",
   "execution_count": null,
   "id": "e8bfe51b",
   "metadata": {},
   "outputs": [],
   "source": []
  },
  {
   "cell_type": "code",
   "execution_count": null,
   "id": "c6cf08c3",
   "metadata": {},
   "outputs": [],
   "source": []
  }
 ],
 "metadata": {
  "kernelspec": {
   "display_name": "Python 3 (ipykernel)",
   "language": "python",
   "name": "python3"
  },
  "language_info": {
   "codemirror_mode": {
    "name": "ipython",
    "version": 3
   },
   "file_extension": ".py",
   "mimetype": "text/x-python",
   "name": "python",
   "nbconvert_exporter": "python",
   "pygments_lexer": "ipython3",
   "version": "3.10.1"
  }
 },
 "nbformat": 4,
 "nbformat_minor": 5
}
